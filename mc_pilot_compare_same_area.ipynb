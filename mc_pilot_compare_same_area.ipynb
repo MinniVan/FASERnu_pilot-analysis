{
 "cells": [
  {
   "cell_type": "markdown",
   "id": "f51c30c1-fccf-473c-a0a6-84fc2695acf9",
   "metadata": {
    "tags": []
   },
   "source": [
    "## This notebook compares MC simulation with pilot run data: </br>\n",
    "MC: 500k muons (muminus) fired in GEANT4 with detector size 23*23$(mm)^2$ area. </br> \n",
    "(xmin,xmanx) -> (38.5,61.5), (ymin, ymax) -> (38.5,61.5) BOTH in units of $mm$\n",
    "</br>\n",
    "These coordinates are to match pilot run data. There are much more events in pilot data (example, plate 90 as over 3.5million events. \n",
    "</br> In future analysis, we should match the density for MC and data"
   ]
  },
  {
   "cell_type": "code",
   "execution_count": 1,
   "id": "0138d58a-50b4-4626-9af0-36e638e1d4cf",
   "metadata": {},
   "outputs": [],
   "source": [
    "import uproot\n",
    "import numpy as np\n",
    "import matplotlib.pyplot as plt\n",
    "from mpl_toolkits.mplot3d import Axes3D\n",
    "import pandas as pd\n",
    "import math\n",
    "from matplotlib.ticker import ScalarFormatter\n",
    "from scipy import stats\n",
    "\n",
    "#plt.rcParams[\"figure.figsize\"] = (15,10)"
   ]
  },
  {
   "cell_type": "code",
   "execution_count": 2,
   "id": "c6432103-f533-46c3-a2ee-58ff037d0b77",
   "metadata": {},
   "outputs": [],
   "source": [
    "muminus_500k = uproot.open(\"500k_muminus.root\")\n",
    "pilot_90_97 = uproot.open(\"plate_90_97.root\")\n",
    "pilot_98_105 = uproot.open(\"plate_98_105.root\")\n",
    "pilot_106_113 = uproot.open(\"plate_106_113.root\")\n",
    "pilot_114_118 = uproot.open(\"plate_114_118.root\")\n",
    "# funtion to get any tree from MC simulation.\n",
    "def tree_MC(N):\n",
    "    index='tree'+ str(N)\n",
    "    return muminus_500k[index]\n",
    "\n",
    "# funtion to get any tree from pilot data. Note that for this data, \n",
    "# there are two tree for each plates. The lower number is 'a back \n",
    "# up copy of the meta data' according to this discussion post:\n",
    "# https://root-forum.cern.ch/t/multiple-trees-with-the-same-name/20878\n",
    "# update, not specifying takes the most recent/higher by default\n",
    "# https://uproot.readthedocs.io/en/latest/uproot.reading.ReadOnlyDirectory.html?highlight=cycle\n",
    "def tree_pilot_data(N):\n",
    "    index = index='tree'+ str(N)\n",
    "    if (N >= 90 and N < 98):\n",
    "        return pilot_90_97[index]\n",
    "    elif (N >= 98 and N < 106):\n",
    "        return pilot_98_105[index]\n",
    "    elif (N >= 106 and N < 114):\n",
    "        return pilot_106_113[index]\n",
    "    elif(N >= 114 and N < 119):\n",
    "        return pilot_114_118[index]\n",
    "    else:\n",
    "        print('INVALID PLATE NUMBER')"
   ]
  },
  {
   "cell_type": "code",
   "execution_count": 4,
   "id": "7b00a324-7734-49a6-aee3-bc282a2eab5e",
   "metadata": {},
   "outputs": [],
   "source": [
    "# this function is used to compare ty and tx of both datasets.\n",
    "# There are normalized to one and overlaped in a single figure\n",
    "# one figure is produced for ever plate [90,118] in the specifed folder\n",
    "def tx_ty_compare(branch,N):\n",
    "    # extract data\n",
    "    tree_mc = tree_MC(N)[branch].array()\n",
    "    tree_pilot = tree_pilot_data(N)[branch].array()\n",
    "    \n",
    "    # computing the bin properties (same for both distributions)\n",
    "    num_bin = 100\n",
    "    bin_lims = np.linspace(-1,1,num_bin+1)\n",
    "    bin_centers = 0.5*(bin_lims[:-1]+bin_lims[1:])\n",
    "    bin_widths = bin_lims[1:]-bin_lims[:-1]\n",
    "    \n",
    "    # normalize MC & data to 1\n",
    "    mc, _ = np.histogram(np.array(tree_mc), bins=bin_lims)\n",
    "    pilot, _ = np.histogram(np.array(tree_pilot), bins=bin_lims)\n",
    "    mc_norm = mc/np.max(mc)\n",
    "    pilot_norm = pilot/np.max(pilot)\n",
    "    \n",
    "    # make plots\n",
    "    fig = plt.figure(figsize=(10,8))\n",
    "    \n",
    "    # mc & pilot data imposed in a single plot\n",
    "    ax = fig.add_gridspec(3,3)\n",
    "    ax1 = fig.add_subplot(ax[0:2, 0:3])\n",
    "    ax1.bar(bin_centers, mc_norm, width = bin_widths, align = 'center',label='MC Simulation ')\n",
    "    ax1.bar(bin_centers, pilot_norm, width = bin_widths,alpha=0.5, align = 'center',label='Pilot Run Data')\n",
    "    ax1.legend(fontsize=10)\n",
    "    ax1.set_title(str(branch) +' probability distribution (tree' + str(N) +')',size=15)\n",
    "    ax1.set_ylabel('probability',size=15)\n",
    "    \n",
    "    # ratio of mc/pilot\n",
    "    ax2 = fig.add_subplot(ax[2, 0:3])\n",
    "    ax2.plot(bin_centers,mc_norm/pilot_norm,color='gray')\n",
    "    ax2.set_ylabel('$\\dfrac{mc}{pilot}$',size=10)\n",
    "    ax2.set_xlabel(branch,size=15)\n",
    "    \n",
    "    plt.show()"
   ]
  },
  {
   "cell_type": "code",
   "execution_count": 7,
   "id": "4cbcf1bd-1be1-45dd-a34c-c941db827806",
   "metadata": {},
   "outputs": [],
   "source": [
    "# this function is to be used to compare the the number of bT in x and y\n",
    "# one figure is produced for every plate [90,118]\n",
    "# note that the units for MC is in mm. and the units for pilot data is\n",
    "# in micro-meter. We divide pilot data by 1000 to match units\n",
    "def bT_x_y(branch,N):\n",
    "    # extract data\n",
    "    tree_mc = tree_MC(N)[branch].array()\n",
    "    tree_pilot = (1/1000)*tree_pilot_data(N)[branch].array()\n",
    "    \n",
    "    # get bT counts\n",
    "    data_test = np.float64(muminus_500k[\"tree118\"][\"pdgid\"].array())\n",
    "    \n",
    "    # make plots\n",
    "    fig = plt.figure(figsize=(10,8))\n",
    "    \n",
    "    # mc & pilot data imposed in a single plot\n",
    "    plt.hist(tree_mc, bins=100, align = 'center',label='MC Simulation ')\n",
    "    plt.hist(tree_pilot, bins=100,alpha=0.5, align = 'center',label='Pilot Run Data')\n",
    "    plt.legend(fontsize=10)\n",
    "    plt.title('bT distribution in ' + str(branch) + '(tree' + str(N) +')',size=15)\n",
    "    plt.ylabel('number of bT',size=15)\n",
    "    \n",
    "    \n",
    "    plt.show()\n",
    "    "
   ]
  },
  {
   "cell_type": "code",
   "execution_count": null,
   "id": "2155ecdf-1001-4530-9f7e-19f73f565ff8",
   "metadata": {},
   "outputs": [],
   "source": []
  }
 ],
 "metadata": {
  "kernelspec": {
   "display_name": "Python 3",
   "language": "python",
   "name": "python3"
  },
  "language_info": {
   "codemirror_mode": {
    "name": "ipython",
    "version": 3
   },
   "file_extension": ".py",
   "mimetype": "text/x-python",
   "name": "python",
   "nbconvert_exporter": "python",
   "pygments_lexer": "ipython3",
   "version": "3.8.8"
  }
 },
 "nbformat": 4,
 "nbformat_minor": 5
}
