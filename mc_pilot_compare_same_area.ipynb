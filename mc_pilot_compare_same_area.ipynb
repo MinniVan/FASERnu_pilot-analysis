{
 "cells": [
  {
   "cell_type": "markdown",
   "id": "f51c30c1-fccf-473c-a0a6-84fc2695acf9",
   "metadata": {
    "tags": []
   },
   "source": [
    "## This notebook compares MC simulation with pilot run data: </br>\n",
    "MC: 500k muons (muminus) fired in GEANT4 with detector size 23*23$(mm)^2$ area. </br> \n",
    "(xmin,xmanx) -> (38.5,61.5), (ymin, ymax) -> (38.5,61.5) BOTH in units of $mm$\n",
    "</br>\n",
    "These coordinates are to match pilot run data. There are much more events in pilot data (example, plate 90 as over 3.5million events. \n",
    "</br> In future analysis, we should match the density for MC and data"
   ]
  },
  {
   "cell_type": "code",
   "execution_count": 1,
   "id": "0138d58a-50b4-4626-9af0-36e638e1d4cf",
   "metadata": {},
   "outputs": [],
   "source": [
    "import uproot\n",
    "import numpy as np\n",
    "import matplotlib.pyplot as plt\n",
    "from mpl_toolkits.mplot3d import Axes3D\n",
    "import pandas as pd\n",
    "import math\n",
    "from matplotlib.ticker import ScalarFormatter\n",
    "from scipy import stats\n",
    "\n",
    "#plt.rcParams[\"figure.figsize\"] = (15,10)"
   ]
  },
  {
   "cell_type": "code",
   "execution_count": 2,
   "id": "c6432103-f533-46c3-a2ee-58ff037d0b77",
   "metadata": {},
   "outputs": [],
   "source": [
    "muminus_500k = uproot.open(\"../MC_pilot_data/500k_mu-529-processed.root\")\n",
    "#muminus_500k = uproot.open(\"../MC_pilot_data/500k_muminus.root\")\n",
    "pilot_90_97 = uproot.open(\"../MC_pilot_data/plate_90_97.root\")\n",
    "pilot_98_105 = uproot.open(\"../MC_pilot_data/plate_98_105.root\")\n",
    "pilot_106_113 = uproot.open(\"../MC_pilot_data/plate_106_113.root\")\n",
    "pilot_114_118 = uproot.open(\"../MC_pilot_data/plate_114_118.root\")\n",
    "# funtion to get any tree from MC simulation.\n",
    "def tree_MC(N):\n",
    "    index='tree'+ str(N)\n",
    "    return muminus_500k[index]\n",
    "\n",
    "# funtion to get any tree from pilot data. Note that for this data, \n",
    "# there are two tree for each plates. The lower number is 'a back \n",
    "# up copy of the meta data' according to this discussion post:\n",
    "# https://root-forum.cern.ch/t/multiple-trees-with-the-same-name/20878\n",
    "# update, not specifying takes the most recent/higher by default\n",
    "# https://uproot.readthedocs.io/en/latest/uproot.reading.ReadOnlyDirectory.html?highlight=cycle\n",
    "def tree_pilot_data(N):\n",
    "    index = index='tree'+ str(N)\n",
    "    if (N >= 90 and N < 98):\n",
    "        return pilot_90_97[index]\n",
    "    elif (N >= 98 and N < 106):\n",
    "        return pilot_98_105[index]\n",
    "    elif (N >= 106 and N < 114):\n",
    "        return pilot_106_113[index]\n",
    "    elif(N >= 114 and N < 119):\n",
    "        return pilot_114_118[index]\n",
    "    else:\n",
    "        print('INVALID PLATE NUMBER')"
   ]
  },
  {
   "cell_type": "code",
   "execution_count": 3,
   "id": "7b00a324-7734-49a6-aee3-bc282a2eab5e",
   "metadata": {},
   "outputs": [],
   "source": [
    "# this function is used to compare ty and tx of both datasets.\n",
    "# There are normalized to one and overlaped in a single figure\n",
    "# one figure is produced for ever plate [90,118] in the specifed folder\n",
    "def tx_ty_compare(branch,N):\n",
    "    # extract data\n",
    "    tree_mc = tree_MC(N)[branch].array()\n",
    "    tree_pilot = tree_pilot_data(N)[branch].array()\n",
    "    \n",
    "    # computing the bin properties (same for both distributions)\n",
    "    num_bin = 100\n",
    "    bin_lims = np.linspace(-1,1,num_bin+1)\n",
    "    bin_centers = 0.5*(bin_lims[:-1]+bin_lims[1:])\n",
    "    bin_widths = bin_lims[1:]-bin_lims[:-1]\n",
    "    \n",
    "    # normalize MC & data to 1\n",
    "    mc, _ = np.histogram(np.array(tree_mc), bins=bin_lims)\n",
    "    pilot, _ = np.histogram(np.array(tree_pilot), bins=bin_lims)\n",
    "    mc_norm = mc/np.max(mc)\n",
    "    pilot_norm = pilot/np.max(pilot)\n",
    "    \n",
    "    # make plots\n",
    "    fig = plt.figure(figsize=(10,8))\n",
    "    \n",
    "    # mc & pilot data imposed in a single plot\n",
    "    ax = fig.add_gridspec(3,3)\n",
    "    ax1 = fig.add_subplot(ax[0:2, 0:3])\n",
    "    ax1.bar(bin_centers, mc_norm, width = bin_widths, align = 'center',label='MC Simulation ')\n",
    "    ax1.bar(bin_centers, pilot_norm, width = bin_widths,alpha=0.5, align = 'center',label='Pilot Run Data')\n",
    "    ax1.legend(fontsize=10)\n",
    "    ax1.set_title(str(branch) +' probability distribution (tree' + str(N) +')',size=15)\n",
    "    ax1.set_ylabel('probability',size=15)\n",
    "    \n",
    "    # ratio of mc/pilot\n",
    "    ax2 = fig.add_subplot(ax[2, 0:3])\n",
    "    ax2.plot(bin_centers,mc_norm/pilot_norm,color='gray')\n",
    "    ax2.set_ylabel('$\\dfrac{mc}{pilot}$',size=10)\n",
    "    ax2.set_xlabel(branch,size=15)\n",
    "    \n",
    "    file_name = branch+'/'+branch+'_tree'+str(N)+'.png'\n",
    "    plt.savefig(file_name,bbox_inches='tight',facecolor='w')\n",
    "    #plt.show()"
   ]
  },
  {
   "cell_type": "code",
   "execution_count": 4,
   "id": "c2901f4a-3203-40bb-9367-3091c43d4876",
   "metadata": {},
   "outputs": [],
   "source": [
    "#for i in range(90,119):\n",
    "#    tx_ty_compare('ty',i)"
   ]
  },
  {
   "cell_type": "code",
   "execution_count": 5,
   "id": "4dccfc61-7441-4fda-9fbe-50c527489197",
   "metadata": {
    "jupyter": {
     "source_hidden": true
    },
    "tags": []
   },
   "outputs": [],
   "source": [
    "#def tree_pilot_data_float64(N,branch):\n",
    "#    index = index='tree'+ str(N)\n",
    "#    if (N >= 90 and N < 98):\n",
    "#        return np.float64(pilot_90_97[index][branch])\n",
    "#    elif (N >= 98 and N < 106):\n",
    "#        return np.float64(pilot_98_105[index][branch])\n",
    "#    elif (N >= 106 and N < 114):\n",
    "#        return np.float64(pilot_106_113[index][branch])\n",
    "#    elif(N >= 114 and N < 119):\n",
    "#        return np.float64(pilot_114_118[index][branch])\n",
    "#    else:\n",
    "#        print('INVALID PLATE NUMBER')"
   ]
  },
  {
   "cell_type": "code",
   "execution_count": 26,
   "id": "4cbcf1bd-1be1-45dd-a34c-c941db827806",
   "metadata": {},
   "outputs": [],
   "source": [
    "# this function is to be used to compare the the number of bT in x and y\n",
    "# one figure is produced for every plate [90,118]\n",
    "# note that the units for MC is in mm. and the units for pilot data is\n",
    "# in micro-meter. We divide pilot data by 1000 to match units\n",
    "def x_y(branch,N):\n",
    "    # extract data\n",
    "    tree_mc = tree_MC(N)[branch].array()\n",
    "    tree_pilot = (1/1000)*tree_pilot_data(N)[branch].array()\n",
    "    \n",
    "    # get muons\n",
    "    muon_counter = np.float64(muminus_500k[\"tree\"+str(N)][branch].array())\n",
    "    pdgid_filter = np.float64(muminus_500k[\"tree\"+str(N)][\"pdgid\"].array())\n",
    "    muminus = muon_counter[pdgid_filter==13]\n",
    "    \n",
    "    # make plots\n",
    "    fig = plt.figure(figsize=(10,8))\n",
    "    \n",
    "    # mc & pilot data imposed in a single plot\n",
    "    plt.hist(tree_pilot, bins=100,label='Pilot Run Data')\n",
    "    plt.hist(tree_mc, bins=100,alpha=0.7,label='MC Simulation ')\n",
    "    \n",
    "    plt.hist(muminus,bins=100,alpha=0.5,color='m',label='pdgid=13 (MC)')\n",
    "    plt.legend(fontsize=10)\n",
    "    plt.title('Distribution in ' + str(branch) + ' (tree' + str(N) +')',size=15)\n",
    "    plt.ylabel('count',size=15)\n",
    "    plt.xlabel('x $(mm)$',size=15)\n",
    "    plt.xlim(35,63)\n",
    "\n",
    "    #file_name = branch+'/'+branch+'_tree'+str(N)+'.png'\n",
    "    #plt.savefig(file_name,bbox_inches='tight',facecolor='w')\n",
    "    \n",
    "    plt.show()\n",
    "    "
   ]
  },
  {
   "cell_type": "code",
   "execution_count": 30,
   "id": "2155ecdf-1001-4530-9f7e-19f73f565ff8",
   "metadata": {},
   "outputs": [],
   "source": [
    "#for i in range(90,119):\n",
    "#    x_y('y',i)\n",
    "    "
   ]
  },
  {
   "cell_type": "code",
   "execution_count": 35,
   "id": "0c2b0680-9916-43d6-9b5e-4f5ccc33f063",
   "metadata": {},
   "outputs": [],
   "source": [
    "def get_area(N):\n",
    "    tree_mc_x = tree_MC(N)['x'].array()\n",
    "    tree_mc_y = tree_MC(N)['y'].array()\n",
    "    mc_xmin = np.min(tree_mc_x)\n",
    "    mc_xmax = np.max(tree_mc_x)\n",
    "    mc_ymin = np.min(tree_mc_y)\n",
    "    mc_ymax = np.max(tree_mc_y)\n",
    "    mc_x_span = mc_xmax - mc_xmin\n",
    "    mc_y_span = mc_ymax - mc_ymin\n",
    "    area_mc = (mc_x_span)*(mc_y_span)\n",
    "    mc = {'area': area_mc,'x_span': mc_x_span,'y_span': mc_y_span,'xmin': mc_xmin, 'xmax': mc_xmax,'ymin': mc_ymin,'ymax': mc_ymax}\n",
    "    \n",
    "    tree_pilot_x = tree_pilot_data(N)['x'].array()\n",
    "    tree_pilot_y = tree_pilot_data(N)['y'].array()\n",
    "    pilot_xmin = np.min(tree_pilot_x)\n",
    "    pilot_xmax = np.max(tree_pilot_x)\n",
    "    pilot_ymin = np.min(tree_pilot_y)\n",
    "    pilot_ymax = np.max(tree_pilot_y)\n",
    "    pilot_x_span = pilot_xmax - pilot_xmin\n",
    "    pilot_y_span = pilot_ymax - pilot_ymin\n",
    "    area_pilot = (pilot_x_span)*(pilot_y_span)\n",
    "    pilot = {'area': area_pilot,'x_span': pilot_x_span,'y_span': pilot_y_span ,'xmin': pilot_xmin, 'xmax': pilot_xmax,'ymin': pilot_ymin,'ymax': mc_ymax}\n",
    "    return[mc, pilot]"
   ]
  },
  {
   "cell_type": "code",
   "execution_count": 42,
   "id": "1eb20858-06b0-465b-a04e-b240d333cb33",
   "metadata": {},
   "outputs": [],
   "source": [
    "def scatter_xy(N):\n",
    "    data = get_area(N)\n",
    "    \n",
    "    tree_mc_x = tree_MC(N)['x'].array()\n",
    "    tree_mc_y = tree_MC(N)['y'].array()\n",
    "    \n",
    "    tree_pilot_x = (1/1000)*tree_pilot_data(N)['x'].array()\n",
    "    tree_pilot_y = (1/1000)*tree_pilot_data(N)['y'].array()\n",
    "    \n",
    "    fig = plt.figure(figsize=(20,10))\n",
    "    \n",
    "    # mc simulation\n",
    "    ax = fig.add_subplot(1,2,1)\n",
    "    ax.scatter(tree_mc_x,tree_mc_y)\n",
    "    #ax.hist(tree_mc,bins=100)\n",
    "    ax.set_xlabel('x',size=15)\n",
    "    ax.set_ylabel('y',size=15)\n",
    "    ax.set_title('xy distribution in MC simulation (tree' + str(N)+')' ,size=20)\n",
    "    #ax.text(-35,0,'area:' + str(data[0]['x_span']) + '$*$' +  str(data[0]['y_span']) + '$=$ ' + str(data[0]['area']) + ' $(u^2)$' ,size=12)\n",
    "    #ax.text(-30,5,'[xmin,xmax]: [' + str(data[0]['xmin']) + ', ' +  str(data[0]['xmax']) + ']',size=12)\n",
    "    #ax.text(-30,-5,'[ymin,ymax]: [' + str(data[0]['ymin']) + ', ' +  str(data[0]['ymax']) + ']',size=12)\n",
    "    \n",
    "    # pilot run data\n",
    "    ax = fig.add_subplot(122)\n",
    "    ax.scatter(tree_pilot_x,tree_pilot_y)\n",
    "    ax.set_xlabel('x',size=15)\n",
    "    ax.set_ylabel('y',size=15)\n",
    "    ax.set_title('xy distribution in pilot run data (tree' + str(N)+')',size=20)\n",
    "    #ax.text(44000,50000,'area:' + str(data[1]['x_span']) + '$*$' +  str(data[1]['y_span']) + '$=$ ' + str(data[1]['area']) + ' $(u^2)$' ,size=12)\n",
    "    #ax.text(45000,51250,'[xmin,xmax]: [' + str(data[1]['xmin']) + ', ' +  str(data[1]['xmax']) + ']',size=12)\n",
    "    #ax.text(45000,48750,'[ymin,ymax]: [' + str(data[1]['ymin']) + ', ' +  str(data[1]['ymax']) + ']',size=12)\n",
    "\n",
    "    \n",
    "    #file_name = 'XY/xy_tree'+str(N)+'.png'\n",
    "    #plt.savefig(file_name,bbox_inches='tight',facecolor='w')\n",
    "    plt.show()\n"
   ]
  },
  {
   "cell_type": "code",
   "execution_count": 43,
   "id": "051bca86-3961-4bec-9e42-63b71ace2968",
   "metadata": {},
   "outputs": [
    {
     "data": {
      "image/png": "[encoded data removed]",
      "text/plain": [
       "<Figure size 1440x720 with 2 Axes>"
      ]
     },
     "metadata": {
      "needs_background": "light"
     },
     "output_type": "display_data"
    }
   ],
   "source": [
    "scatter_xy(90)"
   ]
  },
  {
   "cell_type": "code",
   "execution_count": 69,
   "id": "1dd283a1-99e9-4300-bf06-5ad7adcdfb9e",
   "metadata": {},
   "outputs": [],
   "source": [
    "def scatter_xy(N):\n",
    "    data = get_area(N)\n",
    "    \n",
    "    tree_mc_x = tree_MC(N)['x'].array()\n",
    "    tree_mc_y = tree_MC(N)['y'].array()\n",
    "    \n",
    "    tree_pilot_x = (1/1000)*tree_pilot_data(N)['x'].array()\n",
    "    tree_pilot_y = (1/1000)*tree_pilot_data(N)['y'].array()\n",
    "    \n",
    "    fig = plt.figure(figsize=(20,10))\n",
    "    \n",
    "    # mc simulation\n",
    "    ax = fig.add_subplot(1,2,1)\n",
    "    ax.scatter(tree_mc_x,tree_mc_y)\n",
    "    #ax.hist(tree_mc,bins=100)\n",
    "    ax.set_xlabel('x',size=15)\n",
    "    ax.set_ylabel('y',size=15)\n",
    "    ax.set_title('xy distribution in MC simulation (tree' + str(N)+')' ,size=20)\n",
    "    ax.text(-35,0,'area:' + str(data[0]['x_span']) + '$*$' +  str(data[0]['y_span']) + '$=$ ' + str(data[0]['area']) + ' $(u^2)$' ,size=12)\n",
    "    #ax.text(-30,5,'[xmin,xmax]: [' + str(data[0]['xmin']) + ', ' +  str(data[0]['xmax']) + ']',size=12)\n",
    "    #ax.text(-30,-5,'[ymin,ymax]: [' + str(data[0]['ymin']) + ', ' +  str(data[0]['ymax']) + ']',size=12)\n",
    "    \n",
    "    # pilot run data\n",
    "    ax = fig.add_subplot(122)\n",
    "    ax.scatter(tree_pilot_x,tree_pilot_y)\n",
    "    ax.set_xlabel('x',size=15)\n",
    "    ax.set_ylabel('y',size=15)\n",
    "    ax.set_title('xy distribution in pilot run data (tree' + str(N)+')',size=20)\n",
    "    ax.text(44,50,'area:' + str(data[1]['x_span']) + '$*$' +  str(data[1]['y_span']) + '$=$ ' + str(data[1]['area']) + ' $(u^2)$' ,size=12)\n",
    "    ax.text(45,51.25,'[xmin,xmax]: [' + str(data[1]['xmin']) + ', ' +  str(data[1]['xmax']) + ']',size=12)\n",
    "    ax.text(45,48.75,'[ymin,ymax]: [' + str(data[1]['ymin']) + ', ' +  str(data[1]['ymax']) + ']',size=12)\n",
    "\n",
    "    \n",
    "    file_name = 'XY/xy_tree'+str(N)+'.png'\n",
    "    plt.savefig(file_name,bbox_inches='tight',facecolor='w')\n",
    "    #plt.show()\n"
   ]
  },
  {
   "cell_type": "code",
   "execution_count": 71,
   "id": "cf1f0409-3f29-4585-a890-362e3a3334f6",
   "metadata": {},
   "outputs": [],
   "source": [
    "#for i in range(91,112):\n",
    "#    scatter_xy(i)"
   ]
  },
  {
   "cell_type": "code",
   "execution_count": 75,
   "id": "9f301e94-2dc3-4705-8ce8-3fc7de8bc6f9",
   "metadata": {},
   "outputs": [],
   "source": [
    "def muon_count(N):\n",
    "    \n",
    "    # get muons\n",
    "    pdgid_filter = np.float64(muminus_500k[\"tree\"+str(N)][\"pdgid\"].array())\n",
    "    muminus = pdgid_filter[pdgid_filter==13]\n",
    "    return (len(muminus))\n",
    "    "
   ]
  },
  {
   "cell_type": "code",
   "execution_count": 93,
   "id": "ef1ac78f-0160-42b5-8c10-8e1cd29e9cc5",
   "metadata": {},
   "outputs": [],
   "source": [
    "arr = np.array([])\n",
    "for i in range(90,119):\n",
    "    np.append(arr - 90,muon_count(i))\n",
    "    "
   ]
  },
  {
   "cell_type": "code",
   "execution_count": 92,
   "id": "2a55669a-0f89-4dd5-8a3f-27fba062a1af",
   "metadata": {},
   "outputs": [
    {
     "data": {
      "text/plain": [
       "0"
      ]
     },
     "execution_count": 92,
     "metadata": {},
     "output_type": "execute_result"
    }
   ],
   "source": [
    "len(arr)"
   ]
  },
  {
   "cell_type": "code",
   "execution_count": null,
   "id": "f3091933-361a-40c7-92c2-fa61c1ee58c5",
   "metadata": {},
   "outputs": [],
   "source": []
  },
  {
   "cell_type": "code",
   "execution_count": null,
   "id": "b8ca9b79-0b99-4da3-b326-5729da83b361",
   "metadata": {},
   "outputs": [],
   "source": []
  },
  {
   "cell_type": "code",
   "execution_count": null,
   "id": "1f17b657-426b-49b7-a280-3d70c3ebfedf",
   "metadata": {},
   "outputs": [],
   "source": []
  }
 ],
 "metadata": {
  "kernelspec": {
   "display_name": "Python 3",
   "language": "python",
   "name": "python3"
  },
  "language_info": {
   "codemirror_mode": {
    "name": "ipython",
    "version": 3
   },
   "file_extension": ".py",
   "mimetype": "text/x-python",
   "name": "python",
   "nbconvert_exporter": "python",
   "pygments_lexer": "ipython3",
   "version": "3.8.8"
  }
 },
 "nbformat": 4,
 "nbformat_minor": 5
}
