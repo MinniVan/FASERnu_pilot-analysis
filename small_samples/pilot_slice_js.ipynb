{
 "cells": [
  {
   "cell_type": "markdown",
   "id": "262181d8-b3e6-4265-833b-efb3cb0ce223",
   "metadata": {},
   "source": [
    "### This NoteBook is to look at the output of jstracking.cpp for sliced pilot data to see if the results makes sense:\n",
    "    -> number of reconstructed muon tracks\n",
    "    -> length of the muon tracks\n",
    "    -> number of BT associted to each muon tracks\n",
    "    -> Even display to see the reconstructed tracks (just plot them in 3D image)\n"
   ]
  },
  {
   "cell_type": "code",
   "execution_count": 1,
   "id": "ce6e4b66-c581-4d77-982b-0c289741de1c",
   "metadata": {},
   "outputs": [],
   "source": [
    "import uproot\n",
    "import numpy as np\n",
    "import matplotlib.pyplot as plt\n",
    "from mpl_toolkits.mplot3d import Axes3D\n",
    "import pandas as pd\n",
    "import math\n",
    "from matplotlib.ticker import ScalarFormatter\n",
    "from scipy import stats\n",
    "\n",
    "#plt.rcParams[\"figure.figsize\"] = (15,10)"
   ]
  },
  {
   "cell_type": "code",
   "execution_count": null,
   "id": "ae29d06e-b1fa-4214-b36a-766ea9a9a2a8",
   "metadata": {},
   "outputs": [],
   "source": []
  }
 ],
 "metadata": {
  "kernelspec": {
   "display_name": "Python 3",
   "language": "python",
   "name": "python3"
  },
  "language_info": {
   "codemirror_mode": {
    "name": "ipython",
    "version": 3
   },
   "file_extension": ".py",
   "mimetype": "text/x-python",
   "name": "python",
   "nbconvert_exporter": "python",
   "pygments_lexer": "ipython3",
   "version": "3.8.8"
  }
 },
 "nbformat": 4,
 "nbformat_minor": 5
}
