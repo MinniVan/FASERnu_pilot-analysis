{
 "cells": [
  {
   "cell_type": "code",
   "execution_count": 6,
   "id": "4b1f891d-9b95-4c64-8086-4c86fd06728a",
   "metadata": {},
   "outputs": [],
   "source": [
    "import uproot\n",
    "import numpy as np\n",
    "import matplotlib.pyplot as plt\n",
    "from mpl_toolkits.mplot3d import Axes3D\n",
    "import pandas as pd\n",
    "import math\n",
    "from matplotlib.ticker import ScalarFormatter\n",
    "from scipy import stats\n",
    "\n",
    "#plt.rcParams[\"figure.figsize\"] = (15,10)"
   ]
  },
  {
   "cell_type": "code",
   "execution_count": 7,
   "id": "b74bedd5-ff5a-4ada-a3ac-46f0d5406147",
   "metadata": {},
   "outputs": [],
   "source": [
    "muminus_single = uproot.open(\"processed_single_muminus.root\")\n",
    "muminus_10 = uproot.open(\"processed_10_muminus.root\")\n",
    "muminus_100 = uproot.open(\"processed_100_muminus.root\")\n",
    "#muminus_500k = uproot.open(\"../MC_pilot_data/500k_muminus.root\")\n",
    "\n",
    "# pilot data that has been sliced to a 3x3(mm)^2 area\n",
    "# (xmin,xmax) = (ymin,ymax) = (47.5,50.5)mm\n",
    "pilot_sliced = uproot.open(\"sliced_pilot_data.root\")\n",
    "\n",
    "\n",
    "    "
   ]
  },
  {
   "cell_type": "code",
   "execution_count": 8,
   "id": "24509070-99fe-4ce1-ae5b-789ed5d0b2db",
   "metadata": {},
   "outputs": [],
   "source": [
    "# funtion to get any tree from MC simulation.\n",
    "# currently, there are 3 MC samples\n",
    "# data can be 1 for single muon\n",
    "# 10 for 10 muons, and 100 for 100 muons\n",
    "def tree_MC(data,N):\n",
    "    index='tree'+ str(N)\n",
    "    if data == 1:\n",
    "        return muminus_single[index]\n",
    "    elif data == 10:\n",
    "        return muminus_10[index]\n",
    "    elif data == 100:\n",
    "        return muminus_100[index]\n",
    "    else:\n",
    "        print(\"wrong input for data\")\n",
    "        \n",
    "\n",
    "def tree_pilot_data(N):\n",
    "    index = index='tree'+ str(N)\n",
    "    return pilot_sliced[index]"
   ]
  },
  {
   "cell_type": "code",
   "execution_count": 9,
   "id": "39fb5714-06f9-4e59-acd7-0a825ec1d776",
   "metadata": {
    "tags": []
   },
   "outputs": [],
   "source": [
    "# this function is used to compare ty and tx of both datasets.\n",
    "# There are normalized to one and overlaped in a single figure\n",
    "# one figure is produced for ever plate [90,118] in the specifed folder\n",
    "def tx_ty_compare(data,branch,N):\n",
    "    # extract data\n",
    "    tree_mc = tree_MC(data,N)[branch].array()\n",
    "    tree_pilot = tree_pilot_data(N)[branch].array()\n",
    "    \n",
    "    # computing the bin properties (same for both distributions)\n",
    "    num_bin = 100\n",
    "    bin_lims = np.linspace(-1,1,num_bin+1)\n",
    "    bin_centers = 0.5*(bin_lims[:-1]+bin_lims[1:])\n",
    "    bin_widths = bin_lims[1:]-bin_lims[:-1]\n",
    "    \n",
    "    # normalize MC & data to 1\n",
    "    mc, _ = np.histogram(np.array(tree_mc), bins=bin_lims)\n",
    "    pilot, _ = np.histogram(np.array(tree_pilot), bins=bin_lims)\n",
    "    mc_norm = mc/np.max(mc)\n",
    "    pilot_norm = pilot/np.max(pilot)\n",
    "    \n",
    "    # make plots\n",
    "    fig = plt.figure(figsize=(10,8))\n",
    "    \n",
    "    # mc & pilot data imposed in a single plot\n",
    "    ax = fig.add_gridspec(3,3)\n",
    "    ax1 = fig.add_subplot(ax[0:2, 0:3])\n",
    "    ax1.bar(bin_centers, mc_norm, width = bin_widths, align = 'center',label='MC Simulation ')\n",
    "    ax1.bar(bin_centers, pilot_norm, width = bin_widths,alpha=0.5, align = 'center',label='Pilot Run Data')\n",
    "    ax1.legend(fontsize=10)\n",
    "    ax1.set_title(str(branch) +' probability distribution (tree' + str(N) +')',size=15)\n",
    "    ax1.set_ylabel('probability',size=15)\n",
    "    \n",
    "    # ratio of mc/pilot\n",
    "    ax2 = fig.add_subplot(ax[2, 0:3])\n",
    "    ax2.plot(bin_centers,mc_norm/pilot_norm,color='gray')\n",
    "    ax2.set_ylabel('$\\dfrac{mc}{pilot}$',size=10)\n",
    "    ax2.set_xlabel(branch,size=15)\n",
    "    \n",
    "    #file_name = branch+'/'+branch+'_tree'+str(N)+'.png'\n",
    "    #plt.savefig(file_name,bbox_inches='tight',facecolor='w')\n",
    "    plt.show()"
   ]
  },
  {
   "cell_type": "code",
   "execution_count": 10,
   "id": "37023652-705d-4352-bff3-d3918dec3ab4",
   "metadata": {},
   "outputs": [
    {
     "name": "stderr",
     "output_type": "stream",
     "text": [
      "<ipython-input-9-318f7f435607>:35: RuntimeWarning: invalid value encountered in true_divide\n",
      "  ax2.plot(bin_centers,mc_norm/pilot_norm,color='gray')\n"
     ]
    },
    {
     "data": {
      "image/png": "[encoded data removed]",
      "text/plain": [
       "<Figure size 720x576 with 2 Axes>"
      ]
     },
     "metadata": {
      "needs_background": "light"
     },
     "output_type": "display_data"
    }
   ],
   "source": [
    "tx_ty_compare(100,'ty',118)"
   ]
  },
  {
   "cell_type": "code",
   "execution_count": null,
   "id": "ce9d8930-1a0d-405a-98e9-9fd894f71c89",
   "metadata": {},
   "outputs": [],
   "source": []
  },
  {
   "cell_type": "code",
   "execution_count": null,
   "id": "929eb353-972f-4b7e-ba05-da6dbe6b2dd9",
   "metadata": {},
   "outputs": [],
   "source": []
  },
  {
   "cell_type": "code",
   "execution_count": null,
   "id": "71224670-448d-4350-b953-528d7d9782c9",
   "metadata": {},
   "outputs": [],
   "source": []
  },
  {
   "cell_type": "code",
   "execution_count": null,
   "id": "83b81a01-4584-4813-831e-7cfac70d44c0",
   "metadata": {},
   "outputs": [],
   "source": []
  }
 ],
 "metadata": {
  "kernelspec": {
   "display_name": "Python 3",
   "language": "python",
   "name": "python3"
  },
  "language_info": {
   "codemirror_mode": {
    "name": "ipython",
    "version": 3
   },
   "file_extension": ".py",
   "mimetype": "text/x-python",
   "name": "python",
   "nbconvert_exporter": "python",
   "pygments_lexer": "ipython3",
   "version": "3.8.8"
  }
 },
 "nbformat": 4,
 "nbformat_minor": 5
}
